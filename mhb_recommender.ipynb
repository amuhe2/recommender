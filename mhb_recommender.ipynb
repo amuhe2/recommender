{
 "metadata": {
  "name": "",
  "signature": "sha256:4cd5510aed4f4d64bb9a3295a8e7176a86a01a316a2b58fb5e5cf7252fb10c4d"
 },
 "nbformat": 3,
 "nbformat_minor": 0,
 "worksheets": [
  {
   "cells": [
    {
     "cell_type": "heading",
     "level": 1,
     "metadata": {},
     "source": [
      "Recommender Homework  "
     ]
    },
    {
     "cell_type": "code",
     "collapsed": false,
     "input": [
      "import pandas as pd\n",
      "import numpy as np"
     ],
     "language": "python",
     "metadata": {},
     "outputs": [],
     "prompt_number": 39
    },
    {
     "cell_type": "code",
     "collapsed": false,
     "input": [
      "M = pd.read_csv('C:\\Users\\muheeb\\Documents\\IPython Notebooks\\\\Movie Reviews.csv', index_col='Name')"
     ],
     "language": "python",
     "metadata": {},
     "outputs": [],
     "prompt_number": 41
    },
    {
     "cell_type": "code",
     "collapsed": false,
     "input": [
      "M.head()"
     ],
     "language": "python",
     "metadata": {},
     "outputs": [
      {
       "html": [
        "<div style=\"max-height:1000px;max-width:1500px;overflow:auto;\">\n",
        "<table border=\"1\" class=\"dataframe\">\n",
        "  <thead>\n",
        "    <tr style=\"text-align: right;\">\n",
        "      <th></th>\n",
        "      <th>American Sniper</th>\n",
        "      <th>The Hunger Games: Mockingjay - Part 1</th>\n",
        "      <th>Guardians of the Galaxy</th>\n",
        "      <th>The Lego Movie</th>\n",
        "      <th>The Hobbit</th>\n",
        "      <th>Transformers</th>\n",
        "      <th>Malificent</th>\n",
        "      <th>Big Hero 6</th>\n",
        "      <th>Godzilla</th>\n",
        "      <th>Interstellar</th>\n",
        "      <th>How to Train your Dragon 2</th>\n",
        "      <th>Gone Girl</th>\n",
        "      <th>Divergent</th>\n",
        "      <th>The Fault in Our Stars</th>\n",
        "      <th>Unbroken</th>\n",
        "      <th>300: Rise of an Empire</th>\n",
        "    </tr>\n",
        "    <tr>\n",
        "      <th>Name</th>\n",
        "      <th></th>\n",
        "      <th></th>\n",
        "      <th></th>\n",
        "      <th></th>\n",
        "      <th></th>\n",
        "      <th></th>\n",
        "      <th></th>\n",
        "      <th></th>\n",
        "      <th></th>\n",
        "      <th></th>\n",
        "      <th></th>\n",
        "      <th></th>\n",
        "      <th></th>\n",
        "      <th></th>\n",
        "      <th></th>\n",
        "      <th></th>\n",
        "    </tr>\n",
        "  </thead>\n",
        "  <tbody>\n",
        "    <tr>\n",
        "      <th>Mike</th>\n",
        "      <td>NaN</td>\n",
        "      <td>NaN</td>\n",
        "      <td>  5</td>\n",
        "      <td>NaN</td>\n",
        "      <td>  4</td>\n",
        "      <td>NaN</td>\n",
        "      <td>  3</td>\n",
        "      <td>NaN</td>\n",
        "      <td>NaN</td>\n",
        "      <td>NaN</td>\n",
        "      <td>NaN</td>\n",
        "      <td>NaN</td>\n",
        "      <td>  3</td>\n",
        "      <td>NaN</td>\n",
        "      <td>NaN</td>\n",
        "      <td>  2</td>\n",
        "    </tr>\n",
        "    <tr>\n",
        "      <th>HJ SONG</th>\n",
        "      <td>NaN</td>\n",
        "      <td>  2</td>\n",
        "      <td>  3</td>\n",
        "      <td>  4</td>\n",
        "      <td>  4</td>\n",
        "      <td>  5</td>\n",
        "      <td>NaN</td>\n",
        "      <td>  4</td>\n",
        "      <td>  4</td>\n",
        "      <td>  5</td>\n",
        "      <td>  5</td>\n",
        "      <td>NaN</td>\n",
        "      <td>NaN</td>\n",
        "      <td>NaN</td>\n",
        "      <td>  5</td>\n",
        "      <td>  5</td>\n",
        "    </tr>\n",
        "    <tr>\n",
        "      <th>Ryan Hansen</th>\n",
        "      <td>NaN</td>\n",
        "      <td>  3</td>\n",
        "      <td>  4</td>\n",
        "      <td>  3</td>\n",
        "      <td>  5</td>\n",
        "      <td>  2</td>\n",
        "      <td>  3</td>\n",
        "      <td>  3</td>\n",
        "      <td>  3</td>\n",
        "      <td>NaN</td>\n",
        "      <td>  5</td>\n",
        "      <td>NaN</td>\n",
        "      <td>  3</td>\n",
        "      <td>NaN</td>\n",
        "      <td>NaN</td>\n",
        "      <td>NaN</td>\n",
        "    </tr>\n",
        "    <tr>\n",
        "      <th>Olumuyiwa Durojaiye</th>\n",
        "      <td>NaN</td>\n",
        "      <td>NaN</td>\n",
        "      <td>NaN</td>\n",
        "      <td>NaN</td>\n",
        "      <td>NaN</td>\n",
        "      <td>  5</td>\n",
        "      <td>NaN</td>\n",
        "      <td>  5</td>\n",
        "      <td>  2</td>\n",
        "      <td>NaN</td>\n",
        "      <td>  3</td>\n",
        "      <td>NaN</td>\n",
        "      <td>NaN</td>\n",
        "      <td>NaN</td>\n",
        "      <td>NaN</td>\n",
        "      <td>  2</td>\n",
        "    </tr>\n",
        "    <tr>\n",
        "      <th>Charlie</th>\n",
        "      <td>NaN</td>\n",
        "      <td>  2</td>\n",
        "      <td>  3</td>\n",
        "      <td>NaN</td>\n",
        "      <td>  3</td>\n",
        "      <td>  2</td>\n",
        "      <td>  3</td>\n",
        "      <td>NaN</td>\n",
        "      <td>  4</td>\n",
        "      <td>  5</td>\n",
        "      <td>  2</td>\n",
        "      <td>NaN</td>\n",
        "      <td>  2</td>\n",
        "      <td>  3</td>\n",
        "      <td>NaN</td>\n",
        "      <td>  2</td>\n",
        "    </tr>\n",
        "  </tbody>\n",
        "</table>\n",
        "</div>"
       ],
       "metadata": {},
       "output_type": "pyout",
       "prompt_number": 42,
       "text": [
        "                     American Sniper  The Hunger Games: Mockingjay - Part 1  \\\n",
        "Name                                                                          \n",
        "Mike                             NaN                                    NaN   \n",
        "HJ SONG                          NaN                                      2   \n",
        "Ryan Hansen                      NaN                                      3   \n",
        "Olumuyiwa Durojaiye              NaN                                    NaN   \n",
        "Charlie                          NaN                                      2   \n",
        "\n",
        "                     Guardians of the Galaxy  The Lego Movie  The Hobbit  \\\n",
        "Name                                                                       \n",
        "Mike                                       5             NaN           4   \n",
        "HJ SONG                                    3               4           4   \n",
        "Ryan Hansen                                4               3           5   \n",
        "Olumuyiwa Durojaiye                      NaN             NaN         NaN   \n",
        "Charlie                                    3             NaN           3   \n",
        "\n",
        "                     Transformers  Malificent  Big Hero 6  Godzilla  \\\n",
        "Name                                                                  \n",
        "Mike                          NaN           3         NaN       NaN   \n",
        "HJ SONG                         5         NaN           4         4   \n",
        "Ryan Hansen                     2           3           3         3   \n",
        "Olumuyiwa Durojaiye             5         NaN           5         2   \n",
        "Charlie                         2           3         NaN         4   \n",
        "\n",
        "                     Interstellar  How to Train your Dragon 2  Gone Girl  \\\n",
        "Name                                                                       \n",
        "Mike                          NaN                         NaN        NaN   \n",
        "HJ SONG                         5                           5        NaN   \n",
        "Ryan Hansen                   NaN                           5        NaN   \n",
        "Olumuyiwa Durojaiye           NaN                           3        NaN   \n",
        "Charlie                         5                           2        NaN   \n",
        "\n",
        "                     Divergent  The Fault in Our Stars  Unbroken  \\\n",
        "Name                                                               \n",
        "Mike                         3                     NaN       NaN   \n",
        "HJ SONG                    NaN                     NaN         5   \n",
        "Ryan Hansen                  3                     NaN       NaN   \n",
        "Olumuyiwa Durojaiye        NaN                     NaN       NaN   \n",
        "Charlie                      2                       3       NaN   \n",
        "\n",
        "                     300: Rise of an Empire  \n",
        "Name                                         \n",
        "Mike                                      2  \n",
        "HJ SONG                                   5  \n",
        "Ryan Hansen                             NaN  \n",
        "Olumuyiwa Durojaiye                       2  \n",
        "Charlie                                   2  "
       ]
      }
     ],
     "prompt_number": 42
    },
    {
     "cell_type": "code",
     "collapsed": false,
     "input": [
      "def pearson(s1, s2):\n",
      "    \"\"\"Take two pd.Series objects and return a pearson correlation.\"\"\"\n",
      "    s1_c = s1 - s1.mean()\n",
      "    s2_c = s2 - s2.mean()\n",
      "    return np.sum(s1_c * s2_c) / np.sqrt(np.sum(s1_c ** 2) * np.sum(s2_c ** 2))"
     ],
     "language": "python",
     "metadata": {},
     "outputs": [],
     "prompt_number": 43
    },
    {
     "cell_type": "code",
     "collapsed": false,
     "input": [
      "def get_recs(movie_name, M, num):\n",
      "\n",
      "    import numpy as np\n",
      "    reviews = []\n",
      "    for title in M.columns:\n",
      "        if title == movie_name:\n",
      "            continue\n",
      "        cor = pearson(M[movie_name], M[title])\n",
      "        if np.isnan(cor):\n",
      "            continue\n",
      "        else:\n",
      "            reviews.append((title, cor))\n",
      "    \n",
      "    reviews.sort(key=lambda tup: tup[1], reverse=True)\n",
      "    return reviews[:num]"
     ],
     "language": "python",
     "metadata": {},
     "outputs": [],
     "prompt_number": 44
    },
    {
     "cell_type": "heading",
     "level": 6,
     "metadata": {},
     "source": [
      "What movie is most Similar to 'The fault in our stars'"
     ]
    },
    {
     "cell_type": "code",
     "collapsed": false,
     "input": [
      "recs = get_recs('The Fault in Our Stars', M, 10)"
     ],
     "language": "python",
     "metadata": {},
     "outputs": [],
     "prompt_number": 45
    },
    {
     "cell_type": "code",
     "collapsed": false,
     "input": [
      "recs[:5]"
     ],
     "language": "python",
     "metadata": {},
     "outputs": [
      {
       "metadata": {},
       "output_type": "pyout",
       "prompt_number": 46,
       "text": [
        "[('Transformers', 0.46673568990261),\n",
        " ('The Hunger Games: Mockingjay - Part 1', 0.34429175307622734),\n",
        " ('How to Train your Dragon 2', 0.33756780089638322),\n",
        " ('Malificent', 0.27950849718747378),\n",
        " ('Godzilla', 0.26883661841491802)]"
       ]
      }
     ],
     "prompt_number": 46
    },
    {
     "cell_type": "heading",
     "level": 6,
     "metadata": {},
     "source": [
      "Therefore, The Transformers is the most similar movie to 'The Fault in Our Stars'"
     ]
    },
    {
     "cell_type": "heading",
     "level": 6,
     "metadata": {},
     "source": [
      "Which movie(s) would you most like to see, based on your classmates experience?"
     ]
    },
    {
     "cell_type": "markdown",
     "metadata": {},
     "source": [
      "Movies which I have watched"
     ]
    },
    {
     "cell_type": "code",
     "collapsed": false,
     "input": [
      "my_ratings = M.ix['Ahmed Muheebuddin'].dropna()\n",
      "my_ratings.sort(ascending=False)"
     ],
     "language": "python",
     "metadata": {},
     "outputs": [],
     "prompt_number": 47
    },
    {
     "cell_type": "code",
     "collapsed": false,
     "input": [
      "my_ratings"
     ],
     "language": "python",
     "metadata": {},
     "outputs": [
      {
       "metadata": {},
       "output_type": "pyout",
       "prompt_number": 48,
       "text": [
        "The Lego Movie             4\n",
        "Guardians of the Galaxy    4\n",
        "Name: Ahmed Muheebuddin, dtype: float64"
       ]
      }
     ],
     "prompt_number": 48
    },
    {
     "cell_type": "markdown",
     "metadata": {},
     "source": [
      "I have rated both the flicks with the same rating."
     ]
    },
    {
     "cell_type": "markdown",
     "metadata": {},
     "source": [
      " Using recommender to check which movies are  most similar to 'The Lego Movie' and 'Guardians of the Galaxy'"
     ]
    },
    {
     "cell_type": "markdown",
     "metadata": {},
     "source": [
      "The Lego Movie"
     ]
    },
    {
     "cell_type": "code",
     "collapsed": false,
     "input": [
      "recs = get_recs('The Lego Movie', M, 10)\n",
      "recs[:5]"
     ],
     "language": "python",
     "metadata": {},
     "outputs": [
      {
       "metadata": {},
       "output_type": "pyout",
       "prompt_number": 49,
       "text": [
        "[('Interstellar', 0.45543851662353113),\n",
        " ('Unbroken', 0.42257712736425823),\n",
        " ('Transformers', 0.2955551464841919),\n",
        " ('Malificent', 0.24370871833797697),\n",
        " ('Godzilla', 0.23834326450959178)]"
       ]
      }
     ],
     "prompt_number": 49
    },
    {
     "cell_type": "markdown",
     "metadata": {},
     "source": [
      "therefore 'Interstellar' is the most similar movie to 'The Lego Movie'"
     ]
    },
    {
     "cell_type": "markdown",
     "metadata": {},
     "source": [
      "Guardians of the Galaxy"
     ]
    },
    {
     "cell_type": "code",
     "collapsed": false,
     "input": [
      "recs = get_recs('Guardians of the Galaxy', M, 10)\n",
      "recs[:5]"
     ],
     "language": "python",
     "metadata": {},
     "outputs": [
      {
       "metadata": {},
       "output_type": "pyout",
       "prompt_number": 50,
       "text": [
        "[('The Hunger Games: Mockingjay - Part 1', 0.65858720250561043),\n",
        " ('Godzilla', 0.30643491388281874),\n",
        " ('The Hobbit', 0.29188399795574582),\n",
        " ('The Fault in Our Stars', 0.12802288912479728),\n",
        " ('Transformers', 0.070512943507770834)]"
       ]
      }
     ],
     "prompt_number": 50
    },
    {
     "cell_type": "markdown",
     "metadata": {},
     "source": [
      "therefore 'The Hunger Games: Mockingjay - Part 1' is the most similar movie to 'Guardians of the Galaxy'"
     ]
    },
    {
     "cell_type": "heading",
     "level": 6,
     "metadata": {},
     "source": [
      " Bonus Question... For all the movies you haven't seen, can you predict how you'd rate them using your the class reviews?"
     ]
    },
    {
     "cell_type": "code",
     "collapsed": false,
     "input": [
      "not_rated = M.ix['Ahmed Muheebuddin']\n",
      "not_rated.sort()\n",
      "for i in range(0, not_rated.count(), 1):\n",
      "    not_rated.drop(not_rated.index[0], inplace=True)"
     ],
     "language": "python",
     "metadata": {},
     "outputs": [],
     "prompt_number": 83
    },
    {
     "cell_type": "code",
     "collapsed": false,
     "input": [
      "not_rated"
     ],
     "language": "python",
     "metadata": {},
     "outputs": [
      {
       "metadata": {},
       "output_type": "pyout",
       "prompt_number": 84,
       "text": [
        "American Sniper                         NaN\n",
        "The Hunger Games: Mockingjay - Part 1   NaN\n",
        "The Hobbit                              NaN\n",
        "Transformers                            NaN\n",
        "Malificent                              NaN\n",
        "Big Hero 6                              NaN\n",
        "Godzilla                                NaN\n",
        "Interstellar                            NaN\n",
        "How to Train your Dragon 2              NaN\n",
        "Gone Girl                               NaN\n",
        "Divergent                               NaN\n",
        "The Fault in Our Stars                  NaN\n",
        "Unbroken                                NaN\n",
        "300: Rise of an Empire                  NaN\n",
        "Name: Ahmed Muheebuddin, dtype: float64"
       ]
      }
     ],
     "prompt_number": 84
    },
    {
     "cell_type": "markdown",
     "metadata": {},
     "source": [
      "Pearson Correlation coefficient between me and other classmates."
     ]
    },
    {
     "cell_type": "code",
     "collapsed": false,
     "input": [
      "print \"Pearson Correlation coefficient of :\"\n",
      "a= []\n",
      "for i in range(0, 28, 1): \n",
      "    cor=pearson(M.ix[28], M.ix[i])\n",
      "    print \"(\" + M.index[28] + \" , \" + M.index[i] + \") :\", cor\n",
      "    a.append(cor)"
     ],
     "language": "python",
     "metadata": {},
     "outputs": [
      {
       "output_type": "stream",
       "stream": "stdout",
       "text": [
        "Pearson Correlation coefficient of :\n",
        "(Ahmed Muheebuddin , Mike) : nan\n",
        "(Ahmed Muheebuddin , HJ SONG) : nan\n",
        "(Ahmed Muheebuddin , Ryan Hansen) : nan\n",
        "(Ahmed Muheebuddin , Olumuyiwa Durojaiye) : nan\n",
        "(Ahmed Muheebuddin , Charlie) : nan\n",
        "(Ahmed Muheebuddin , Sina Tuy) : nan\n",
        "(Ahmed Muheebuddin , Pavithra Shetty) : nan\n",
        "(Ahmed Muheebuddin , Sara Collins) : nan\n",
        "(Ahmed Muheebuddin , Jonathan Doll) : nan\n",
        "(Ahmed Muheebuddin , saikiran reddy) : nan\n",
        "(Ahmed Muheebuddin , Aishwarya reddy) : nan\n",
        "(Ahmed Muheebuddin , Brant Mullinix) : nan\n",
        "(Ahmed Muheebuddin , Sai Sampath) : nan\n",
        "(Ahmed Muheebuddin , Suyendra) : nan\n",
        "(Ahmed Muheebuddin , Sai Yallapragada) : nan\n",
        "(Ahmed Muheebuddin , Akhilesh) : nan\n",
        "(Ahmed Muheebuddin , Sundar Prasad) : nan\n",
        "(Ahmed Muheebuddin , Evan Piercy) : nan\n",
        "(Ahmed Muheebuddin , Jessica Fong) : nan\n",
        "(Ahmed Muheebuddin , Onsiri Tapsarn) : nan\n",
        "(Ahmed Muheebuddin , Anirudh Thota) : nan\n",
        "(Ahmed Muheebuddin , Greg Werner) : nan\n",
        "(Ahmed Muheebuddin , Violeta Lee Fay) : nan\n",
        "(Ahmed Muheebuddin , Aditya Dharmasagar) : nan\n",
        "(Ahmed Muheebuddin , Manideep Maddipatla) : nan\n",
        "(Ahmed Muheebuddin , Maheshwar Reddy) : nan\n",
        "(Ahmed Muheebuddin , siddanth sudarshan) : nan\n",
        "(Ahmed Muheebuddin , anurag) : nan\n"
       ]
      }
     ],
     "prompt_number": 104
    },
    {
     "cell_type": "markdown",
     "metadata": {},
     "source": [
      "Taking two parameters 'x' and 'a'.Where 'x' a list of ratings given by classmates. 'a' is a array that has corresponding pearson correlation coefficientreturn (weights for the given rates)."
     ]
    },
    {
     "cell_type": "code",
     "collapsed": false,
     "input": [
      "def pred_rate(x, a):\n",
      "    \"\"\"\n",
      "    Takes two parameters 'x' and 'a'. \n",
      "    Where 'x' a list of rates given by classmates. \n",
      "    'a' is a array that has corresponding pearson correlation coefficientreturn (weights for the given rates).\n",
      "    predicted rate is calculated as rate= (x[0]*a[0] + x[1]*a[1] +...+x[i]*a[i]) / (a[0]+a[1]+..+a[i]) \n",
      "    returns predicted rate \n",
      "    \"\"\"\n",
      "    j=0\n",
      "    k=0\n",
      "    for i in range(0, x.shape[0], 1): # for each row in x (range(0,23))\n",
      "        if x.irow(i)>0 and a[i]>0: \n",
      "            j= j+(a[i]*x.irow(i))\n",
      "            k= k+a[i]\n",
      "        else:\n",
      "            continue\n",
      "    return j/k"
     ],
     "language": "python",
     "metadata": {},
     "outputs": [],
     "prompt_number": 102
    },
    {
     "cell_type": "code",
     "collapsed": false,
     "input": [
      "print \"My ratings for the movies that I have not seen using class review:\"\n",
      "for i in range(0, not_rated.shape[0], 1): # for each row in not_rated(range(0,12))  \n",
      "    x=M[not_rated.index[i]]\n",
      "    rate=pred_rate(x, a)\n",
      "    print not_rated.index[i] +\": \", rate.round(1)"
     ],
     "language": "python",
     "metadata": {},
     "outputs": [
      {
       "output_type": "stream",
       "stream": "stdout",
       "text": [
        "My ratings for the movies that I have not seen using class review:\n"
       ]
      },
      {
       "ename": "ZeroDivisionError",
       "evalue": "integer division or modulo by zero",
       "output_type": "pyerr",
       "traceback": [
        "\u001b[1;31m---------------------------------------------------------------------------\u001b[0m\n\u001b[1;31mZeroDivisionError\u001b[0m                         Traceback (most recent call last)",
        "\u001b[1;32m<ipython-input-103-600673fbfd34>\u001b[0m in \u001b[0;36m<module>\u001b[1;34m()\u001b[0m\n\u001b[0;32m      2\u001b[0m \u001b[1;32mfor\u001b[0m \u001b[0mi\u001b[0m \u001b[1;32min\u001b[0m \u001b[0mrange\u001b[0m\u001b[1;33m(\u001b[0m\u001b[1;36m0\u001b[0m\u001b[1;33m,\u001b[0m \u001b[0mnot_rated\u001b[0m\u001b[1;33m.\u001b[0m\u001b[0mshape\u001b[0m\u001b[1;33m[\u001b[0m\u001b[1;36m0\u001b[0m\u001b[1;33m]\u001b[0m\u001b[1;33m,\u001b[0m \u001b[1;36m1\u001b[0m\u001b[1;33m)\u001b[0m\u001b[1;33m:\u001b[0m \u001b[1;31m# for each row in not_rated(range(0,12))\u001b[0m\u001b[1;33m\u001b[0m\u001b[0m\n\u001b[0;32m      3\u001b[0m     \u001b[0mx\u001b[0m\u001b[1;33m=\u001b[0m\u001b[0mM\u001b[0m\u001b[1;33m[\u001b[0m\u001b[0mnot_rated\u001b[0m\u001b[1;33m.\u001b[0m\u001b[0mindex\u001b[0m\u001b[1;33m[\u001b[0m\u001b[0mi\u001b[0m\u001b[1;33m]\u001b[0m\u001b[1;33m]\u001b[0m\u001b[1;33m\u001b[0m\u001b[0m\n\u001b[1;32m----> 4\u001b[1;33m     \u001b[0mrate\u001b[0m\u001b[1;33m=\u001b[0m\u001b[0mpred_rate\u001b[0m\u001b[1;33m(\u001b[0m\u001b[0mx\u001b[0m\u001b[1;33m,\u001b[0m \u001b[0ma\u001b[0m\u001b[1;33m)\u001b[0m\u001b[1;33m\u001b[0m\u001b[0m\n\u001b[0m\u001b[0;32m      5\u001b[0m     \u001b[1;32mprint\u001b[0m \u001b[0mnot_rated\u001b[0m\u001b[1;33m.\u001b[0m\u001b[0mindex\u001b[0m\u001b[1;33m[\u001b[0m\u001b[0mi\u001b[0m\u001b[1;33m]\u001b[0m \u001b[1;33m+\u001b[0m\u001b[1;34m\": \"\u001b[0m\u001b[1;33m,\u001b[0m \u001b[0mrate\u001b[0m\u001b[1;33m.\u001b[0m\u001b[0mround\u001b[0m\u001b[1;33m(\u001b[0m\u001b[1;36m1\u001b[0m\u001b[1;33m)\u001b[0m\u001b[1;33m\u001b[0m\u001b[0m\n",
        "\u001b[1;32m<ipython-input-102-a1e08ec82d28>\u001b[0m in \u001b[0;36mpred_rate\u001b[1;34m(x, a)\u001b[0m\n\u001b[0;32m     15\u001b[0m         \u001b[1;32melse\u001b[0m\u001b[1;33m:\u001b[0m\u001b[1;33m\u001b[0m\u001b[0m\n\u001b[0;32m     16\u001b[0m             \u001b[1;32mcontinue\u001b[0m\u001b[1;33m\u001b[0m\u001b[0m\n\u001b[1;32m---> 17\u001b[1;33m     \u001b[1;32mreturn\u001b[0m \u001b[0mj\u001b[0m\u001b[1;33m/\u001b[0m\u001b[0mk\u001b[0m\u001b[1;33m\u001b[0m\u001b[0m\n\u001b[0m",
        "\u001b[1;31mZeroDivisionError\u001b[0m: integer division or modulo by zero"
       ]
      }
     ],
     "prompt_number": 103
    },
    {
     "cell_type": "code",
     "collapsed": false,
     "input": [],
     "language": "python",
     "metadata": {},
     "outputs": []
    }
   ],
   "metadata": {}
  }
 ]
}